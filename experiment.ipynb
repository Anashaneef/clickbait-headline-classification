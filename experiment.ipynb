{
  "cells": [
    {
      "cell_type": "code",
      "execution_count": 1,
      "metadata": {
        "id": "jnOTqdR8PXzF"
      },
      "outputs": [],
      "source": [
        "import pandas as pd\n",
        "from sklearn.metrics import accuracy_score\n",
        "import matplotlib.pyplot as plt"
      ]
    },
    {
      "cell_type": "code",
      "execution_count": 2,
      "metadata": {
        "colab": {
          "base_uri": "https://localhost:8080/",
          "height": 206
        },
        "id": "OyTnXjlTQi31",
        "outputId": "3a815353-affb-49a5-8bf1-f9e35dd0cc3a"
      },
      "outputs": [
        {
          "data": {
            "text/html": [
              "<div>\n",
              "<style scoped>\n",
              "    .dataframe tbody tr th:only-of-type {\n",
              "        vertical-align: middle;\n",
              "    }\n",
              "\n",
              "    .dataframe tbody tr th {\n",
              "        vertical-align: top;\n",
              "    }\n",
              "\n",
              "    .dataframe thead th {\n",
              "        text-align: right;\n",
              "    }\n",
              "</style>\n",
              "<table border=\"1\" class=\"dataframe\">\n",
              "  <thead>\n",
              "    <tr style=\"text-align: right;\">\n",
              "      <th></th>\n",
              "      <th>headline</th>\n",
              "      <th>clickbait</th>\n",
              "    </tr>\n",
              "  </thead>\n",
              "  <tbody>\n",
              "    <tr>\n",
              "      <th>0</th>\n",
              "      <td>should i get bings</td>\n",
              "      <td>1</td>\n",
              "    </tr>\n",
              "    <tr>\n",
              "      <th>1</th>\n",
              "      <td>which tv female friend group do you belong in</td>\n",
              "      <td>1</td>\n",
              "    </tr>\n",
              "    <tr>\n",
              "      <th>2</th>\n",
              "      <td>the new star wars the force awakens trailer is...</td>\n",
              "      <td>1</td>\n",
              "    </tr>\n",
              "    <tr>\n",
              "      <th>3</th>\n",
              "      <td>this vine of new york on celebrity big brother...</td>\n",
              "      <td>1</td>\n",
              "    </tr>\n",
              "    <tr>\n",
              "      <th>4</th>\n",
              "      <td>a couple did a stunning photo shoot with their...</td>\n",
              "      <td>1</td>\n",
              "    </tr>\n",
              "  </tbody>\n",
              "</table>\n",
              "</div>"
            ],
            "text/plain": [
              "                                            headline  clickbait\n",
              "0                                 should i get bings          1\n",
              "1      which tv female friend group do you belong in          1\n",
              "2  the new star wars the force awakens trailer is...          1\n",
              "3  this vine of new york on celebrity big brother...          1\n",
              "4  a couple did a stunning photo shoot with their...          1"
            ]
          },
          "execution_count": 2,
          "metadata": {},
          "output_type": "execute_result"
        }
      ],
      "source": [
        "data = pd.read_csv('data/clickbait_clean.csv')\n",
        "data.head()"
      ]
    },
    {
      "cell_type": "code",
      "execution_count": 5,
      "metadata": {},
      "outputs": [],
      "source": [
        "headline = data['headline'].values\n",
        "clickbait = data[['clickbait']].values"
      ]
    },
    {
      "cell_type": "code",
      "execution_count": 6,
      "metadata": {
        "colab": {
          "base_uri": "https://localhost:8080/"
        },
        "id": "uTFbRgByVgUJ",
        "outputId": "95e17ee8-4eec-4893-8bd0-29ff3878b0d7"
      },
      "outputs": [
        {
          "name": "stdout",
          "output_type": "stream",
          "text": [
            "Shape of text tensor: (32000, 26)\n",
            "Shape of label tensor: (32000, 1)\n"
          ]
        }
      ],
      "source": [
        "from tensorflow.keras.preprocessing.text import Tokenizer\n",
        "from tensorflow.keras.preprocessing.sequence import pad_sequences\n",
        "\n",
        "max_word = 6000\n",
        "tokenizer = Tokenizer(num_words=max_word, oov_token='x')\n",
        "tokenizer.fit_on_texts(headline)\n",
        "\n",
        "text_sequences = tokenizer.texts_to_sequences(headline);\n",
        "X = pad_sequences(text_sequences)\n",
        "print('Shape of text tensor:', X.shape)\n",
        "\n",
        "y = clickbait\n",
        "print('Shape of label tensor:', y.shape)"
      ]
    },
    {
      "cell_type": "code",
      "execution_count": 7,
      "metadata": {
        "colab": {
          "base_uri": "https://localhost:8080/"
        },
        "id": "JhsMTIJ4szrc",
        "outputId": "19641167-4cf3-4f0a-e455-6da627c5a309"
      },
      "outputs": [
        {
          "name": "stdout",
          "output_type": "stream",
          "text": [
            "(28800, 26) (28800, 1)\n",
            "(3200, 26) (3200, 1)\n"
          ]
        }
      ],
      "source": [
        "from sklearn.model_selection import train_test_split\n",
        "\n",
        "X_train, X_test, y_train, y_test = train_test_split(X, y, random_state = 42, test_size = 0.1, stratify = y)\n",
        "\n",
        "print(X_train.shape, y_train.shape)\n",
        "print(X_test.shape, y_test.shape)"
      ]
    },
    {
      "cell_type": "code",
      "execution_count": 8,
      "metadata": {
        "id": "OXaao7pWawbk"
      },
      "outputs": [],
      "source": [
        "from keras.callbacks import EarlyStopping\n",
        "cb = [EarlyStopping(monitor='val_accuracy', patience=10, min_delta=0.01)]"
      ]
    },
    {
      "cell_type": "markdown",
      "metadata": {
        "id": "dDLHpJuFw87D"
      },
      "source": [
        "## **GRU**"
      ]
    },
    {
      "cell_type": "code",
      "execution_count": 9,
      "metadata": {
        "id": "zc77FrkyVk6K"
      },
      "outputs": [],
      "source": [
        "import tensorflow as tf\n",
        "model = tf.keras.Sequential([\n",
        "    tf.keras.layers.Embedding(input_dim=max_word, output_dim=16),\n",
        "    tf.keras.layers.GRU(128, return_sequences = False),\n",
        "    tf.keras.layers.Dense(64, activation='relu'),\n",
        "    tf.keras.layers.Dropout(0.5),\n",
        "    tf.keras.layers.Dense(64, activation='relu'),\n",
        "    tf.keras.layers.Dense(1, activation='sigmoid')\n",
        "])\n",
        "\n",
        "model.compile(optimizer='sgd', loss='binary_crossentropy', metrics=['accuracy'])"
      ]
    },
    {
      "cell_type": "code",
      "execution_count": 10,
      "metadata": {
        "colab": {
          "base_uri": "https://localhost:8080/"
        },
        "id": "roMVckRiVu6u",
        "outputId": "6612bcf0-e02c-45e2-bfa6-53d04f4751bb"
      },
      "outputs": [
        {
          "name": "stdout",
          "output_type": "stream",
          "text": [
            "Model: \"sequential\"\n",
            "_________________________________________________________________\n",
            " Layer (type)                Output Shape              Param #   \n",
            "=================================================================\n",
            " embedding (Embedding)       (None, None, 16)          96000     \n",
            "                                                                 \n",
            " gru (GRU)                   (None, 128)               56064     \n",
            "                                                                 \n",
            " dense (Dense)               (None, 64)                8256      \n",
            "                                                                 \n",
            " dropout (Dropout)           (None, 64)                0         \n",
            "                                                                 \n",
            " dense_1 (Dense)             (None, 64)                4160      \n",
            "                                                                 \n",
            " dense_2 (Dense)             (None, 1)                 65        \n",
            "                                                                 \n",
            "=================================================================\n",
            "Total params: 164,545\n",
            "Trainable params: 164,545\n",
            "Non-trainable params: 0\n",
            "_________________________________________________________________\n"
          ]
        }
      ],
      "source": [
        "model.summary()"
      ]
    },
    {
      "cell_type": "code",
      "execution_count": 11,
      "metadata": {
        "colab": {
          "base_uri": "https://localhost:8080/"
        },
        "id": "9kaLCg-cV3RW",
        "outputId": "f5deb8d2-4cd5-421c-e99f-7261439cf2a0"
      },
      "outputs": [
        {
          "name": "stdout",
          "output_type": "stream",
          "text": [
            "Epoch 1/100\n",
            "900/900 - 14s - loss: 0.6926 - accuracy: 0.5217 - val_loss: 0.6919 - val_accuracy: 0.5381 - 14s/epoch - 16ms/step\n",
            "Epoch 2/100\n",
            "900/900 - 12s - loss: 0.6915 - accuracy: 0.5497 - val_loss: 0.6903 - val_accuracy: 0.5738 - 12s/epoch - 13ms/step\n",
            "Epoch 3/100\n",
            "900/900 - 12s - loss: 0.6897 - accuracy: 0.5675 - val_loss: 0.6876 - val_accuracy: 0.6428 - 12s/epoch - 13ms/step\n",
            "Epoch 4/100\n",
            "900/900 - 12s - loss: 0.6860 - accuracy: 0.5910 - val_loss: 0.6821 - val_accuracy: 0.6441 - 12s/epoch - 13ms/step\n",
            "Epoch 5/100\n",
            "900/900 - 12s - loss: 0.6780 - accuracy: 0.6111 - val_loss: 0.6696 - val_accuracy: 0.6559 - 12s/epoch - 13ms/step\n",
            "Epoch 6/100\n",
            "900/900 - 12s - loss: 0.6583 - accuracy: 0.6479 - val_loss: 0.6326 - val_accuracy: 0.6581 - 12s/epoch - 13ms/step\n",
            "Epoch 7/100\n",
            "900/900 - 12s - loss: 0.5735 - accuracy: 0.7308 - val_loss: 0.4393 - val_accuracy: 0.8322 - 12s/epoch - 13ms/step\n",
            "Epoch 8/100\n",
            "900/900 - 12s - loss: 0.3792 - accuracy: 0.8452 - val_loss: 0.2658 - val_accuracy: 0.9000 - 12s/epoch - 13ms/step\n",
            "Epoch 9/100\n",
            "900/900 - 12s - loss: 0.2821 - accuracy: 0.8923 - val_loss: 0.2039 - val_accuracy: 0.9266 - 12s/epoch - 13ms/step\n",
            "Epoch 10/100\n",
            "900/900 - 12s - loss: 0.2293 - accuracy: 0.9174 - val_loss: 0.1724 - val_accuracy: 0.9375 - 12s/epoch - 14ms/step\n",
            "Epoch 11/100\n",
            "900/900 - 12s - loss: 0.1905 - accuracy: 0.9323 - val_loss: 0.1612 - val_accuracy: 0.9422 - 12s/epoch - 13ms/step\n",
            "Epoch 12/100\n",
            "900/900 - 12s - loss: 0.1632 - accuracy: 0.9430 - val_loss: 0.1550 - val_accuracy: 0.9438 - 12s/epoch - 13ms/step\n",
            "Epoch 13/100\n",
            "900/900 - 12s - loss: 0.1387 - accuracy: 0.9536 - val_loss: 0.1229 - val_accuracy: 0.9544 - 12s/epoch - 14ms/step\n",
            "Epoch 14/100\n",
            "900/900 - 12s - loss: 0.1172 - accuracy: 0.9615 - val_loss: 0.1242 - val_accuracy: 0.9556 - 12s/epoch - 14ms/step\n",
            "Epoch 15/100\n",
            "900/900 - 12s - loss: 0.0969 - accuracy: 0.9674 - val_loss: 0.1418 - val_accuracy: 0.9506 - 12s/epoch - 14ms/step\n",
            "Epoch 16/100\n",
            "900/900 - 12s - loss: 0.0872 - accuracy: 0.9707 - val_loss: 0.1275 - val_accuracy: 0.9584 - 12s/epoch - 14ms/step\n",
            "Epoch 17/100\n",
            "900/900 - 12s - loss: 0.0776 - accuracy: 0.9749 - val_loss: 0.0971 - val_accuracy: 0.9659 - 12s/epoch - 13ms/step\n",
            "Epoch 18/100\n",
            "900/900 - 12s - loss: 0.0707 - accuracy: 0.9782 - val_loss: 0.1170 - val_accuracy: 0.9575 - 12s/epoch - 13ms/step\n",
            "Epoch 19/100\n",
            "900/900 - 12s - loss: 0.0646 - accuracy: 0.9796 - val_loss: 0.0905 - val_accuracy: 0.9700 - 12s/epoch - 13ms/step\n",
            "Epoch 20/100\n",
            "900/900 - 12s - loss: 0.0601 - accuracy: 0.9809 - val_loss: 0.0987 - val_accuracy: 0.9663 - 12s/epoch - 13ms/step\n",
            "Epoch 21/100\n",
            "900/900 - 12s - loss: 0.0583 - accuracy: 0.9813 - val_loss: 0.1308 - val_accuracy: 0.9578 - 12s/epoch - 14ms/step\n",
            "Epoch 22/100\n",
            "900/900 - 12s - loss: 0.0510 - accuracy: 0.9835 - val_loss: 0.1019 - val_accuracy: 0.9666 - 12s/epoch - 14ms/step\n",
            "Epoch 23/100\n",
            "900/900 - 12s - loss: 0.0505 - accuracy: 0.9840 - val_loss: 0.1110 - val_accuracy: 0.9631 - 12s/epoch - 14ms/step\n",
            "Epoch 24/100\n",
            "900/900 - 12s - loss: 0.0445 - accuracy: 0.9858 - val_loss: 0.0848 - val_accuracy: 0.9709 - 12s/epoch - 14ms/step\n",
            "Epoch 25/100\n",
            "900/900 - 12s - loss: 0.0434 - accuracy: 0.9864 - val_loss: 0.0909 - val_accuracy: 0.9716 - 12s/epoch - 13ms/step\n",
            "Epoch 26/100\n",
            "900/900 - 12s - loss: 0.0424 - accuracy: 0.9865 - val_loss: 0.0880 - val_accuracy: 0.9703 - 12s/epoch - 13ms/step\n",
            "Epoch 27/100\n",
            "900/900 - 12s - loss: 0.0373 - accuracy: 0.9884 - val_loss: 0.0895 - val_accuracy: 0.9716 - 12s/epoch - 13ms/step\n",
            "CPU times: total: 2min 11s\n",
            "Wall time: 5min 28s\n"
          ]
        }
      ],
      "source": [
        "%%time\n",
        "num_epoch = 100\n",
        "history = model.fit(X_train, y_train, epochs=num_epoch,\n",
        "                    validation_data=(X_test, y_test), callbacks=cb, verbose=2)"
      ]
    },
    {
      "cell_type": "code",
      "execution_count": 12,
      "metadata": {
        "colab": {
          "base_uri": "https://localhost:8080/"
        },
        "id": "23AWfFMNb5kZ",
        "outputId": "979d4d30-7a3c-4b6b-dded-15b81ab163a2"
      },
      "outputs": [
        {
          "name": "stdout",
          "output_type": "stream",
          "text": [
            "100/100 [==============================] - 1s 5ms/step\n",
            "[[1546   54]\n",
            " [  37 1563]]\n"
          ]
        }
      ],
      "source": [
        "from sklearn.metrics import confusion_matrix, classification_report\n",
        "import numpy as np\n",
        "y_pred=model.predict(X_test) \n",
        "\n",
        "cm = confusion_matrix(y_test, y_pred.round())\n",
        "print(cm)"
      ]
    },
    {
      "cell_type": "code",
      "execution_count": 13,
      "metadata": {},
      "outputs": [
        {
          "name": "stdout",
          "output_type": "stream",
          "text": [
            "Accuracy: 0.9715625\n"
          ]
        }
      ],
      "source": [
        "print('Accuracy:', accuracy_score(y_test, y_pred.round()))"
      ]
    },
    {
      "cell_type": "code",
      "execution_count": 14,
      "metadata": {
        "colab": {
          "base_uri": "https://localhost:8080/"
        },
        "id": "LOV6uT5rb6Ja",
        "outputId": "c96b03e1-5eaf-48a3-de49-0ebd674bc054"
      },
      "outputs": [
        {
          "name": "stdout",
          "output_type": "stream",
          "text": [
            "              precision    recall  f1-score   support\n",
            "\n",
            "           0       0.98      0.97      0.97      1600\n",
            "           1       0.97      0.98      0.97      1600\n",
            "\n",
            "    accuracy                           0.97      3200\n",
            "   macro avg       0.97      0.97      0.97      3200\n",
            "weighted avg       0.97      0.97      0.97      3200\n",
            "\n"
          ]
        }
      ],
      "source": [
        "cr = classification_report(y_test, y_pred.round())\n",
        "print(cr)"
      ]
    },
    {
      "cell_type": "code",
      "execution_count": 15,
      "metadata": {},
      "outputs": [
        {
          "data": {
            "image/png": "[encoded data removed]",
            "text/plain": [
              "<Figure size 640x480 with 1 Axes>"
            ]
          },
          "metadata": {},
          "output_type": "display_data"
        }
      ],
      "source": [
        "import matplotlib.pyplot as plt\n",
        "\n",
        "# summarize history for accuracy\n",
        "plt.plot(history.history['accuracy'])\n",
        "plt.plot(history.history['val_accuracy'])\n",
        "plt.title('model accuracy')\n",
        "plt.ylabel('accuracy')\n",
        "plt.xlabel('epoch')\n",
        "plt.legend(['Train', 'Validation'], loc='upper left')\n",
        "plt.show()"
      ]
    },
    {
      "attachments": {},
      "cell_type": "markdown",
      "metadata": {
        "id": "A5dUJNh6xAKy"
      },
      "source": [
        "## **LSTM**"
      ]
    },
    {
      "cell_type": "code",
      "execution_count": 16,
      "metadata": {
        "id": "h1R5VmXWxNPr"
      },
      "outputs": [],
      "source": [
        "import tensorflow as tf\n",
        "from keras.layers import LSTM\n",
        "model_2 = tf.keras.Sequential([\n",
        "    tf.keras.layers.Embedding(input_dim=max_word, output_dim=16),\n",
        "    tf.keras.layers.LSTM(128,  return_sequences=False),\n",
        "    tf.keras.layers.Dense(64, activation='relu'),\n",
        "    tf.keras.layers.Dropout(0.5),\n",
        "    tf.keras.layers.Dense(64, activation='relu'),\n",
        "    tf.keras.layers.Dense(1, activation='sigmoid')\n",
        "])\n",
        "\n",
        "model_2.compile(optimizer='sgd', loss='binary_crossentropy', metrics=['accuracy'])"
      ]
    },
    {
      "cell_type": "code",
      "execution_count": 17,
      "metadata": {
        "colab": {
          "base_uri": "https://localhost:8080/"
        },
        "id": "R3O_CbUuy80L",
        "outputId": "dd239610-8e1e-4b21-9f0c-95fd9e564776"
      },
      "outputs": [
        {
          "name": "stdout",
          "output_type": "stream",
          "text": [
            "Model: \"sequential_1\"\n",
            "_________________________________________________________________\n",
            " Layer (type)                Output Shape              Param #   \n",
            "=================================================================\n",
            " embedding_1 (Embedding)     (None, None, 16)          96000     \n",
            "                                                                 \n",
            " lstm (LSTM)                 (None, 128)               74240     \n",
            "                                                                 \n",
            " dense_3 (Dense)             (None, 64)                8256      \n",
            "                                                                 \n",
            " dropout_1 (Dropout)         (None, 64)                0         \n",
            "                                                                 \n",
            " dense_4 (Dense)             (None, 64)                4160      \n",
            "                                                                 \n",
            " dense_5 (Dense)             (None, 1)                 65        \n",
            "                                                                 \n",
            "=================================================================\n",
            "Total params: 182,721\n",
            "Trainable params: 182,721\n",
            "Non-trainable params: 0\n",
            "_________________________________________________________________\n"
          ]
        }
      ],
      "source": [
        "model_2.summary()"
      ]
    },
    {
      "cell_type": "code",
      "execution_count": 18,
      "metadata": {
        "colab": {
          "base_uri": "https://localhost:8080/"
        },
        "id": "5yF_zthvzHiV",
        "outputId": "b3b8a0b7-e7a8-4661-ef00-5e17b4c6e004"
      },
      "outputs": [
        {
          "name": "stdout",
          "output_type": "stream",
          "text": [
            "Epoch 1/100\n",
            "900/900 - 16s - loss: 0.6924 - accuracy: 0.5405 - val_loss: 0.6913 - val_accuracy: 0.5337 - 16s/epoch - 17ms/step\n",
            "Epoch 2/100\n",
            "900/900 - 13s - loss: 0.6902 - accuracy: 0.5995 - val_loss: 0.6880 - val_accuracy: 0.6569 - 13s/epoch - 15ms/step\n",
            "Epoch 3/100\n",
            "900/900 - 13s - loss: 0.6841 - accuracy: 0.6561 - val_loss: 0.6764 - val_accuracy: 0.7241 - 13s/epoch - 15ms/step\n",
            "Epoch 4/100\n",
            "900/900 - 13s - loss: 0.6558 - accuracy: 0.7101 - val_loss: 0.6111 - val_accuracy: 0.7300 - 13s/epoch - 15ms/step\n",
            "Epoch 5/100\n",
            "900/900 - 13s - loss: 0.5590 - accuracy: 0.7406 - val_loss: 0.4757 - val_accuracy: 0.7884 - 13s/epoch - 15ms/step\n",
            "Epoch 6/100\n",
            "900/900 - 13s - loss: 0.4162 - accuracy: 0.8253 - val_loss: 0.3399 - val_accuracy: 0.8578 - 13s/epoch - 15ms/step\n",
            "Epoch 7/100\n",
            "900/900 - 13s - loss: 0.2658 - accuracy: 0.9006 - val_loss: 0.1895 - val_accuracy: 0.9259 - 13s/epoch - 15ms/step\n",
            "Epoch 8/100\n",
            "900/900 - 13s - loss: 0.1941 - accuracy: 0.9305 - val_loss: 0.1660 - val_accuracy: 0.9419 - 13s/epoch - 15ms/step\n",
            "Epoch 9/100\n",
            "900/900 - 13s - loss: 0.1485 - accuracy: 0.9489 - val_loss: 0.1283 - val_accuracy: 0.9544 - 13s/epoch - 14ms/step\n",
            "Epoch 10/100\n",
            "900/900 - 13s - loss: 0.1292 - accuracy: 0.9556 - val_loss: 0.1162 - val_accuracy: 0.9556 - 13s/epoch - 14ms/step\n",
            "Epoch 11/100\n",
            "900/900 - 13s - loss: 0.1143 - accuracy: 0.9622 - val_loss: 0.1335 - val_accuracy: 0.9516 - 13s/epoch - 15ms/step\n",
            "Epoch 12/100\n",
            "900/900 - 13s - loss: 0.0963 - accuracy: 0.9687 - val_loss: 0.1088 - val_accuracy: 0.9609 - 13s/epoch - 15ms/step\n",
            "Epoch 13/100\n",
            "900/900 - 13s - loss: 0.0871 - accuracy: 0.9713 - val_loss: 0.0937 - val_accuracy: 0.9666 - 13s/epoch - 14ms/step\n",
            "Epoch 14/100\n",
            "900/900 - 13s - loss: 0.0778 - accuracy: 0.9743 - val_loss: 0.1054 - val_accuracy: 0.9600 - 13s/epoch - 14ms/step\n",
            "Epoch 15/100\n",
            "900/900 - 13s - loss: 0.0760 - accuracy: 0.9751 - val_loss: 0.1385 - val_accuracy: 0.9475 - 13s/epoch - 15ms/step\n",
            "Epoch 16/100\n",
            "900/900 - 13s - loss: 0.0654 - accuracy: 0.9789 - val_loss: 0.0966 - val_accuracy: 0.9659 - 13s/epoch - 14ms/step\n",
            "Epoch 17/100\n",
            "900/900 - 13s - loss: 0.0614 - accuracy: 0.9799 - val_loss: 0.1203 - val_accuracy: 0.9594 - 13s/epoch - 14ms/step\n",
            "Epoch 18/100\n",
            "900/900 - 13s - loss: 0.0574 - accuracy: 0.9821 - val_loss: 0.0924 - val_accuracy: 0.9681 - 13s/epoch - 14ms/step\n",
            "Epoch 19/100\n",
            "900/900 - 13s - loss: 0.0522 - accuracy: 0.9839 - val_loss: 0.1066 - val_accuracy: 0.9650 - 13s/epoch - 14ms/step\n",
            "Epoch 20/100\n",
            "900/900 - 13s - loss: 0.0502 - accuracy: 0.9845 - val_loss: 0.1089 - val_accuracy: 0.9622 - 13s/epoch - 14ms/step\n",
            "Epoch 21/100\n",
            "900/900 - 13s - loss: 0.0463 - accuracy: 0.9852 - val_loss: 0.0953 - val_accuracy: 0.9681 - 13s/epoch - 14ms/step\n",
            "Epoch 22/100\n",
            "900/900 - 13s - loss: 0.0416 - accuracy: 0.9875 - val_loss: 0.1116 - val_accuracy: 0.9653 - 13s/epoch - 14ms/step\n",
            "Epoch 23/100\n",
            "900/900 - 13s - loss: 0.0475 - accuracy: 0.9855 - val_loss: 0.0983 - val_accuracy: 0.9656 - 13s/epoch - 14ms/step\n",
            "CPU times: total: 2min 2s\n",
            "Wall time: 5min 2s\n"
          ]
        }
      ],
      "source": [
        "%%time\n",
        "num_epoch = 100\n",
        "history_2 = model_2.fit(X_train, y_train, epochs=num_epoch,\n",
        "                    validation_data=(X_test, y_test), callbacks=cb, verbose=2)"
      ]
    },
    {
      "cell_type": "code",
      "execution_count": 19,
      "metadata": {
        "colab": {
          "base_uri": "https://localhost:8080/"
        },
        "id": "e3wczImzzONF",
        "outputId": "9229a8f4-03ca-45e4-bb52-ee47622f388d"
      },
      "outputs": [
        {
          "name": "stdout",
          "output_type": "stream",
          "text": [
            "100/100 [==============================] - 1s 6ms/step\n",
            "[[1564   36]\n",
            " [  74 1526]]\n"
          ]
        }
      ],
      "source": [
        "from sklearn.metrics import confusion_matrix, classification_report\n",
        "import numpy as np\n",
        "y_pred2=model_2.predict(X_test) \n",
        "\n",
        "cm = confusion_matrix(y_test, y_pred2.round())\n",
        "print(cm)"
      ]
    },
    {
      "cell_type": "code",
      "execution_count": 20,
      "metadata": {},
      "outputs": [
        {
          "name": "stdout",
          "output_type": "stream",
          "text": [
            "Accuracy: 0.965625\n"
          ]
        }
      ],
      "source": [
        "print('Accuracy:', accuracy_score(y_test, y_pred2.round()))"
      ]
    },
    {
      "cell_type": "code",
      "execution_count": 21,
      "metadata": {
        "colab": {
          "base_uri": "https://localhost:8080/"
        },
        "id": "Ym0wXxf6zUKo",
        "outputId": "c4c5a97e-7e62-49e0-e3ce-3727bb5e87fb"
      },
      "outputs": [
        {
          "name": "stdout",
          "output_type": "stream",
          "text": [
            "              precision    recall  f1-score   support\n",
            "\n",
            "           0       0.95      0.98      0.97      1600\n",
            "           1       0.98      0.95      0.97      1600\n",
            "\n",
            "    accuracy                           0.97      3200\n",
            "   macro avg       0.97      0.97      0.97      3200\n",
            "weighted avg       0.97      0.97      0.97      3200\n",
            "\n"
          ]
        }
      ],
      "source": [
        "cr = classification_report(y_test, y_pred2.round())\n",
        "print(cr)"
      ]
    },
    {
      "cell_type": "code",
      "execution_count": 22,
      "metadata": {},
      "outputs": [
        {
          "data": {
            "image/png": "[encoded data removed]",
            "text/plain": [
              "<Figure size 640x480 with 1 Axes>"
            ]
          },
          "metadata": {},
          "output_type": "display_data"
        }
      ],
      "source": [
        "# summarize history for accuracy\n",
        "plt.plot(history_2.history['accuracy'])\n",
        "plt.plot(history_2.history['val_accuracy'])\n",
        "plt.title('model accuracy')\n",
        "plt.ylabel('accuracy')\n",
        "plt.xlabel('epoch')\n",
        "plt.legend(['Train', 'Validation'], loc='upper left')\n",
        "plt.show()"
      ]
    },
    {
      "attachments": {},
      "cell_type": "markdown",
      "metadata": {},
      "source": [
        "## **Bi-LSTM**"
      ]
    },
    {
      "cell_type": "code",
      "execution_count": 23,
      "metadata": {},
      "outputs": [],
      "source": [
        "import tensorflow as tf\n",
        "from keras.layers import LSTM\n",
        "model_3 = tf.keras.Sequential([\n",
        "    tf.keras.layers.Embedding(input_dim=max_word, output_dim=16),\n",
        "    tf.keras.layers.Bidirectional(LSTM(128,  return_sequences=False)),\n",
        "    tf.keras.layers.Dense(64, activation='relu'),\n",
        "    tf.keras.layers.Dropout(0.5),\n",
        "    tf.keras.layers.Dense(64, activation='relu'),\n",
        "    tf.keras.layers.Dense(1, activation='sigmoid')\n",
        "])\n",
        "\n",
        "model_3.compile(optimizer='sgd', loss='binary_crossentropy', metrics=['accuracy'])"
      ]
    },
    {
      "cell_type": "code",
      "execution_count": 24,
      "metadata": {},
      "outputs": [
        {
          "name": "stdout",
          "output_type": "stream",
          "text": [
            "Model: \"sequential_2\"\n",
            "_________________________________________________________________\n",
            " Layer (type)                Output Shape              Param #   \n",
            "=================================================================\n",
            " embedding_2 (Embedding)     (None, None, 16)          96000     \n",
            "                                                                 \n",
            " bidirectional (Bidirectiona  (None, 256)              148480    \n",
            " l)                                                              \n",
            "                                                                 \n",
            " dense_6 (Dense)             (None, 64)                16448     \n",
            "                                                                 \n",
            " dropout_2 (Dropout)         (None, 64)                0         \n",
            "                                                                 \n",
            " dense_7 (Dense)             (None, 64)                4160      \n",
            "                                                                 \n",
            " dense_8 (Dense)             (None, 1)                 65        \n",
            "                                                                 \n",
            "=================================================================\n",
            "Total params: 265,153\n",
            "Trainable params: 265,153\n",
            "Non-trainable params: 0\n",
            "_________________________________________________________________\n"
          ]
        }
      ],
      "source": [
        "model_3.summary()"
      ]
    },
    {
      "cell_type": "code",
      "execution_count": 25,
      "metadata": {},
      "outputs": [
        {
          "name": "stdout",
          "output_type": "stream",
          "text": [
            "Epoch 1/100\n",
            "900/900 - 23s - loss: 0.6924 - accuracy: 0.5397 - val_loss: 0.6915 - val_accuracy: 0.5678 - 23s/epoch - 25ms/step\n",
            "Epoch 2/100\n",
            "900/900 - 19s - loss: 0.6904 - accuracy: 0.5818 - val_loss: 0.6884 - val_accuracy: 0.6612 - 19s/epoch - 21ms/step\n",
            "Epoch 3/100\n",
            "900/900 - 19s - loss: 0.6844 - accuracy: 0.6582 - val_loss: 0.6766 - val_accuracy: 0.7266 - 19s/epoch - 21ms/step\n",
            "Epoch 4/100\n",
            "900/900 - 19s - loss: 0.6530 - accuracy: 0.7083 - val_loss: 0.6032 - val_accuracy: 0.7244 - 19s/epoch - 21ms/step\n",
            "Epoch 5/100\n",
            "900/900 - 21s - loss: 0.5521 - accuracy: 0.7424 - val_loss: 0.4681 - val_accuracy: 0.7884 - 21s/epoch - 23ms/step\n",
            "Epoch 6/100\n",
            "900/900 - 21s - loss: 0.4188 - accuracy: 0.8235 - val_loss: 0.3668 - val_accuracy: 0.8256 - 21s/epoch - 23ms/step\n",
            "Epoch 7/100\n",
            "900/900 - 19s - loss: 0.2721 - accuracy: 0.8984 - val_loss: 0.2032 - val_accuracy: 0.9237 - 19s/epoch - 21ms/step\n",
            "Epoch 8/100\n",
            "900/900 - 19s - loss: 0.1949 - accuracy: 0.9302 - val_loss: 0.1533 - val_accuracy: 0.9406 - 19s/epoch - 21ms/step\n",
            "Epoch 9/100\n",
            "900/900 - 19s - loss: 0.1572 - accuracy: 0.9447 - val_loss: 0.1421 - val_accuracy: 0.9466 - 19s/epoch - 21ms/step\n",
            "Epoch 10/100\n",
            "900/900 - 19s - loss: 0.1323 - accuracy: 0.9549 - val_loss: 0.1320 - val_accuracy: 0.9519 - 19s/epoch - 21ms/step\n",
            "Epoch 11/100\n",
            "900/900 - 19s - loss: 0.1143 - accuracy: 0.9620 - val_loss: 0.1266 - val_accuracy: 0.9516 - 19s/epoch - 21ms/step\n",
            "Epoch 12/100\n",
            "900/900 - 20s - loss: 0.0997 - accuracy: 0.9680 - val_loss: 0.1034 - val_accuracy: 0.9619 - 20s/epoch - 22ms/step\n",
            "Epoch 13/100\n",
            "900/900 - 20s - loss: 0.0887 - accuracy: 0.9724 - val_loss: 0.1152 - val_accuracy: 0.9597 - 20s/epoch - 22ms/step\n",
            "Epoch 14/100\n",
            "900/900 - 19s - loss: 0.0818 - accuracy: 0.9737 - val_loss: 0.1127 - val_accuracy: 0.9616 - 19s/epoch - 21ms/step\n",
            "Epoch 15/100\n",
            "900/900 - 19s - loss: 0.0736 - accuracy: 0.9766 - val_loss: 0.1101 - val_accuracy: 0.9638 - 19s/epoch - 21ms/step\n",
            "Epoch 16/100\n",
            "900/900 - 22s - loss: 0.0700 - accuracy: 0.9777 - val_loss: 0.0926 - val_accuracy: 0.9678 - 22s/epoch - 24ms/step\n",
            "Epoch 17/100\n",
            "900/900 - 21s - loss: 0.0674 - accuracy: 0.9794 - val_loss: 0.1107 - val_accuracy: 0.9656 - 21s/epoch - 23ms/step\n",
            "Epoch 18/100\n",
            "900/900 - 21s - loss: 0.0698 - accuracy: 0.9787 - val_loss: 0.0969 - val_accuracy: 0.9684 - 21s/epoch - 24ms/step\n",
            "Epoch 19/100\n",
            "900/900 - 22s - loss: 0.0543 - accuracy: 0.9829 - val_loss: 0.0976 - val_accuracy: 0.9666 - 22s/epoch - 24ms/step\n",
            "Epoch 20/100\n",
            "900/900 - 20s - loss: 0.0496 - accuracy: 0.9853 - val_loss: 0.0926 - val_accuracy: 0.9688 - 20s/epoch - 23ms/step\n",
            "Epoch 21/100\n",
            "900/900 - 22s - loss: 0.0455 - accuracy: 0.9860 - val_loss: 0.0906 - val_accuracy: 0.9694 - 22s/epoch - 24ms/step\n",
            "Epoch 22/100\n",
            "900/900 - 22s - loss: 0.0450 - accuracy: 0.9867 - val_loss: 0.0960 - val_accuracy: 0.9688 - 22s/epoch - 25ms/step\n",
            "CPU times: total: 5min 6s\n",
            "Wall time: 7min 23s\n"
          ]
        }
      ],
      "source": [
        "%%time\n",
        "num_epoch = 100\n",
        "history_3 = model_3.fit(X_train, y_train, epochs=num_epoch,\n",
        "                    validation_data=(X_test, y_test), callbacks=cb, verbose=2)"
      ]
    },
    {
      "cell_type": "code",
      "execution_count": 26,
      "metadata": {},
      "outputs": [
        {
          "name": "stdout",
          "output_type": "stream",
          "text": [
            "100/100 [==============================] - 2s 10ms/step\n",
            "[[1559   41]\n",
            " [  59 1541]]\n"
          ]
        }
      ],
      "source": [
        "from sklearn.metrics import confusion_matrix, classification_report\n",
        "import numpy as np\n",
        "y_pred3=model_3.predict(X_test) \n",
        "\n",
        "cm = confusion_matrix(y_test, y_pred3.round())\n",
        "print(cm)"
      ]
    },
    {
      "cell_type": "code",
      "execution_count": 27,
      "metadata": {},
      "outputs": [
        {
          "name": "stdout",
          "output_type": "stream",
          "text": [
            "Accuracy: 0.96875\n"
          ]
        }
      ],
      "source": [
        "print('Accuracy:', accuracy_score(y_test, y_pred3.round()))"
      ]
    },
    {
      "cell_type": "code",
      "execution_count": 28,
      "metadata": {},
      "outputs": [
        {
          "name": "stdout",
          "output_type": "stream",
          "text": [
            "              precision    recall  f1-score   support\n",
            "\n",
            "           0       0.96      0.97      0.97      1600\n",
            "           1       0.97      0.96      0.97      1600\n",
            "\n",
            "    accuracy                           0.97      3200\n",
            "   macro avg       0.97      0.97      0.97      3200\n",
            "weighted avg       0.97      0.97      0.97      3200\n",
            "\n"
          ]
        }
      ],
      "source": [
        "cr = classification_report(y_test, y_pred3.round())\n",
        "print(cr)"
      ]
    },
    {
      "cell_type": "code",
      "execution_count": 29,
      "metadata": {},
      "outputs": [
        {
          "data": {
            "image/png": "[encoded data removed]",
            "text/plain": [
              "<Figure size 640x480 with 1 Axes>"
            ]
          },
          "metadata": {},
          "output_type": "display_data"
        }
      ],
      "source": [
        "# summarize history for accuracy\n",
        "plt.plot(history_3.history['accuracy'])\n",
        "plt.plot(history_3.history['val_accuracy'])\n",
        "plt.title('model accuracy')\n",
        "plt.ylabel('accuracy')\n",
        "plt.xlabel('epoch')\n",
        "plt.legend(['Train', 'Validation'], loc='upper left')\n",
        "plt.show()"
      ]
    },
    {
      "cell_type": "code",
      "execution_count": 31,
      "metadata": {},
      "outputs": [
        {
          "data": {
            "image/png": "[encoded data removed]",
            "text/plain": [
              "<Figure size 640x480 with 1 Axes>"
            ]
          },
          "metadata": {},
          "output_type": "display_data"
        }
      ],
      "source": [
        "# summarize history for accuracy\n",
        "plt.plot(history_2.history['val_accuracy'])\n",
        "plt.plot(history_3.history['val_accuracy'])\n",
        "plt.plot(history.history['val_accuracy'])\n",
        "plt.title('model accuracy')\n",
        "plt.ylabel('accuracy')\n",
        "plt.xlabel('epoch')\n",
        "plt.legend(['LSTM', 'Bi-LSTM', 'GRU'], loc='upper left')\n",
        "plt.show()"
      ]
    }
  ],
  "metadata": {
    "colab": {
      "provenance": []
    },
    "kernelspec": {
      "display_name": "Python 3",
      "name": "python3"
    },
    "language_info": {
      "codemirror_mode": {
        "name": "ipython",
        "version": 3
      },
      "file_extension": ".py",
      "mimetype": "text/x-python",
      "name": "python",
      "nbconvert_exporter": "python",
      "pygments_lexer": "ipython3",
      "version": "3.10.11"
    }
  },
  "nbformat": 4,
  "nbformat_minor": 0
}
